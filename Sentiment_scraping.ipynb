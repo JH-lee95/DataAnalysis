{
  "nbformat": 4,
  "nbformat_minor": 0,
  "metadata": {
    "colab": {
      "name": "Sentiment_scraping.ipynb",
      "provenance": [],
      "collapsed_sections": [],
      "authorship_tag": "ABX9TyM8Na9pSTfjTO/C/plS2X3o",
      "include_colab_link": true
    },
    "kernelspec": {
      "name": "python3",
      "display_name": "Python 3"
    },
    "accelerator": "GPU"
  },
  "cells": [
    {
      "cell_type": "markdown",
      "metadata": {
        "id": "view-in-github",
        "colab_type": "text"
      },
      "source": [
        "<a href=\"https://colab.research.google.com/github/JH-lee95/Projects/blob/master/Sentiment_scraping.ipynb\" target=\"_parent\"><img src=\"https://colab.research.google.com/assets/colab-badge.svg\" alt=\"Open In Colab\"/></a>"
      ]
    },
    {
      "cell_type": "code",
      "metadata": {
        "id": "8H5piigw5Nig",
        "colab_type": "code",
        "outputId": "36679a0c-6a11-49d9-e09e-db87209d09f9",
        "colab": {
          "base_uri": "https://localhost:8080/",
          "height": 629
        }
      },
      "source": [
        "!pip install nltk\n",
        "!pip install konlpy"
      ],
      "execution_count": 0,
      "outputs": [
        {
          "output_type": "stream",
          "text": [
            "Requirement already satisfied: nltk in /usr/local/lib/python3.6/dist-packages (3.2.5)\n",
            "Requirement already satisfied: six in /usr/local/lib/python3.6/dist-packages (from nltk) (1.12.0)\n",
            "Collecting konlpy\n",
            "\u001b[?25l  Downloading https://files.pythonhosted.org/packages/85/0e/f385566fec837c0b83f216b2da65db9997b35dd675e107752005b7d392b1/konlpy-0.5.2-py2.py3-none-any.whl (19.4MB)\n",
            "\u001b[K     |████████████████████████████████| 19.4MB 1.5MB/s \n",
            "\u001b[?25hRequirement already satisfied: lxml>=4.1.0 in /usr/local/lib/python3.6/dist-packages (from konlpy) (4.2.6)\n",
            "Requirement already satisfied: numpy>=1.6 in /usr/local/lib/python3.6/dist-packages (from konlpy) (1.18.5)\n",
            "Collecting beautifulsoup4==4.6.0\n",
            "\u001b[?25l  Downloading https://files.pythonhosted.org/packages/9e/d4/10f46e5cfac773e22707237bfcd51bbffeaf0a576b0a847ec7ab15bd7ace/beautifulsoup4-4.6.0-py3-none-any.whl (86kB)\n",
            "\u001b[K     |████████████████████████████████| 92kB 9.4MB/s \n",
            "\u001b[?25hCollecting JPype1>=0.7.0\n",
            "\u001b[?25l  Downloading https://files.pythonhosted.org/packages/2d/9b/e115101a833605b3c0e6f3a2bc1f285c95aaa1d93ab808314ca1bde63eed/JPype1-0.7.5-cp36-cp36m-manylinux2010_x86_64.whl (3.6MB)\n",
            "\u001b[K     |████████████████████████████████| 3.6MB 40.5MB/s \n",
            "\u001b[?25hCollecting colorama\n",
            "  Downloading https://files.pythonhosted.org/packages/c9/dc/45cdef1b4d119eb96316b3117e6d5708a08029992b2fee2c143c7a0a5cc5/colorama-0.4.3-py2.py3-none-any.whl\n",
            "Collecting tweepy>=3.7.0\n",
            "  Downloading https://files.pythonhosted.org/packages/36/1b/2bd38043d22ade352fc3d3902cf30ce0e2f4bf285be3b304a2782a767aec/tweepy-3.8.0-py2.py3-none-any.whl\n",
            "Requirement already satisfied: six>=1.10.0 in /usr/local/lib/python3.6/dist-packages (from tweepy>=3.7.0->konlpy) (1.12.0)\n",
            "Requirement already satisfied: PySocks>=1.5.7 in /usr/local/lib/python3.6/dist-packages (from tweepy>=3.7.0->konlpy) (1.7.1)\n",
            "Requirement already satisfied: requests>=2.11.1 in /usr/local/lib/python3.6/dist-packages (from tweepy>=3.7.0->konlpy) (2.23.0)\n",
            "Requirement already satisfied: requests-oauthlib>=0.7.0 in /usr/local/lib/python3.6/dist-packages (from tweepy>=3.7.0->konlpy) (1.3.0)\n",
            "Requirement already satisfied: chardet<4,>=3.0.2 in /usr/local/lib/python3.6/dist-packages (from requests>=2.11.1->tweepy>=3.7.0->konlpy) (3.0.4)\n",
            "Requirement already satisfied: certifi>=2017.4.17 in /usr/local/lib/python3.6/dist-packages (from requests>=2.11.1->tweepy>=3.7.0->konlpy) (2020.4.5.1)\n",
            "Requirement already satisfied: urllib3!=1.25.0,!=1.25.1,<1.26,>=1.21.1 in /usr/local/lib/python3.6/dist-packages (from requests>=2.11.1->tweepy>=3.7.0->konlpy) (1.24.3)\n",
            "Requirement already satisfied: idna<3,>=2.5 in /usr/local/lib/python3.6/dist-packages (from requests>=2.11.1->tweepy>=3.7.0->konlpy) (2.9)\n",
            "Requirement already satisfied: oauthlib>=3.0.0 in /usr/local/lib/python3.6/dist-packages (from requests-oauthlib>=0.7.0->tweepy>=3.7.0->konlpy) (3.1.0)\n",
            "Installing collected packages: beautifulsoup4, JPype1, colorama, tweepy, konlpy\n",
            "  Found existing installation: beautifulsoup4 4.6.3\n",
            "    Uninstalling beautifulsoup4-4.6.3:\n",
            "      Successfully uninstalled beautifulsoup4-4.6.3\n",
            "  Found existing installation: tweepy 3.6.0\n",
            "    Uninstalling tweepy-3.6.0:\n",
            "      Successfully uninstalled tweepy-3.6.0\n",
            "Successfully installed JPype1-0.7.5 beautifulsoup4-4.6.0 colorama-0.4.3 konlpy-0.5.2 tweepy-3.8.0\n"
          ],
          "name": "stdout"
        }
      ]
    },
    {
      "cell_type": "code",
      "metadata": {
        "id": "jalVxjBmT_rS",
        "colab_type": "code",
        "outputId": "3aca71c6-d03f-47f6-f9d5-65d759544c3f",
        "colab": {
          "base_uri": "https://localhost:8080/",
          "height": 127
        }
      },
      "source": [
        "#구글드라이브 마운트\n",
        "\n",
        "from google.colab import drive\n",
        "drive.mount('/content/drive')"
      ],
      "execution_count": 0,
      "outputs": [
        {
          "output_type": "stream",
          "text": [
            "Go to this URL in a browser: https://accounts.google.com/o/oauth2/auth?client_id=947318989803-6bn6qk8qdgf4n4g3pfee6491hc0brc4i.apps.googleusercontent.com&redirect_uri=urn%3aietf%3awg%3aoauth%3a2.0%3aoob&response_type=code&scope=email%20https%3a%2f%2fwww.googleapis.com%2fauth%2fdocs.test%20https%3a%2f%2fwww.googleapis.com%2fauth%2fdrive%20https%3a%2f%2fwww.googleapis.com%2fauth%2fdrive.photos.readonly%20https%3a%2f%2fwww.googleapis.com%2fauth%2fpeopleapi.readonly\n",
            "\n",
            "Enter your authorization code:\n",
            "··········\n",
            "Mounted at /content/drive\n"
          ],
          "name": "stdout"
        }
      ]
    },
    {
      "cell_type": "code",
      "metadata": {
        "id": "e1pV5mVmUJxG",
        "colab_type": "code",
        "outputId": "1d75433c-f714-40b9-f4e9-28a367112eb4",
        "colab": {
          "base_uri": "https://localhost:8080/",
          "height": 35
        }
      },
      "source": [
        "!ls '/content/drive/'"
      ],
      "execution_count": 0,
      "outputs": [
        {
          "output_type": "stream",
          "text": [
            "'My Drive'\n"
          ],
          "name": "stdout"
        }
      ]
    },
    {
      "cell_type": "code",
      "metadata": {
        "id": "gIyTyM8LJcmH",
        "colab_type": "code",
        "colab": {}
      },
      "source": [
        "import nltk\n",
        "import konlpy"
      ],
      "execution_count": 0,
      "outputs": []
    },
    {
      "cell_type": "code",
      "metadata": {
        "id": "V-ook6uJKNzV",
        "colab_type": "code",
        "outputId": "2e50af78-37ff-462f-9bf6-78b462a1996c",
        "colab": {
          "base_uri": "https://localhost:8080/",
          "height": 35
        }
      },
      "source": [
        "nltk.download\n",
        "\n",
        "konlpy.__version__"
      ],
      "execution_count": 0,
      "outputs": [
        {
          "output_type": "execute_result",
          "data": {
            "text/plain": [
              "'0.5.2'"
            ]
          },
          "metadata": {
            "tags": []
          },
          "execution_count": 7
        }
      ]
    },
    {
      "cell_type": "code",
      "metadata": {
        "id": "tjtmlgZpJpHw",
        "colab_type": "code",
        "outputId": "cac164ff-9e03-4dce-fbf8-db6350d0fcfa",
        "colab": {
          "base_uri": "https://localhost:8080/",
          "height": 53
        }
      },
      "source": [
        "import pandas as pd\n",
        "import numpy as np\n",
        "import matplotlib.pyplot as plt\n",
        "import tensorflow\n",
        "from tensorflow.keras.preprocessing.text import Tokenizer\n",
        "from tensorflow.keras.preprocessing.sequence import pad_sequences\n",
        "import re\n",
        "from konlpy.tag import Okt\n",
        "import urllib.request\n",
        "%matplotlib inline\n",
        "import seaborn as sns\n",
        "import pickle"
      ],
      "execution_count": 0,
      "outputs": [
        {
          "output_type": "stream",
          "text": [
            "/usr/local/lib/python3.6/dist-packages/statsmodels/tools/_testing.py:19: FutureWarning: pandas.util.testing is deprecated. Use the functions in the public API at pandas.testing instead.\n",
            "  import pandas.util.testing as tm\n"
          ],
          "name": "stderr"
        }
      ]
    },
    {
      "cell_type": "code",
      "metadata": {
        "id": "MnCyPSyuKHq1",
        "colab_type": "code",
        "outputId": "f66fe03f-5bb8-452b-db39-826788db1aba",
        "colab": {
          "base_uri": "https://localhost:8080/",
          "height": 35
        }
      },
      "source": [
        "urllib.request.urlretrieve(\"https://raw.githubusercontent.com/e9t/nsmc/master/ratings_train.txt\", filename=\"ratings_train.txt\")\n",
        "urllib.request.urlretrieve(\"https://raw.githubusercontent.com/e9t/nsmc/master/ratings_test.txt\", filename=\"ratings_test.txt\")"
      ],
      "execution_count": 0,
      "outputs": [
        {
          "output_type": "execute_result",
          "data": {
            "text/plain": [
              "('ratings_test.txt', <http.client.HTTPMessage at 0x7fca70f82048>)"
            ]
          },
          "metadata": {
            "tags": []
          },
          "execution_count": 9
        }
      ]
    },
    {
      "cell_type": "code",
      "metadata": {
        "id": "1uIX8YT77OOp",
        "colab_type": "code",
        "colab": {}
      },
      "source": [
        "train=pd.read_table(\"ratings_train.txt\")\n",
        "test=pd.read_table(\"ratings_test.txt\")"
      ],
      "execution_count": 0,
      "outputs": []
    },
    {
      "cell_type": "markdown",
      "metadata": {
        "id": "hu6xdF66rml8",
        "colab_type": "text"
      },
      "source": [
        "\n",
        "\n",
        "# 1.EDA\n",
        "\n"
      ]
    },
    {
      "cell_type": "code",
      "metadata": {
        "id": "CvIWlCR87aaQ",
        "colab_type": "code",
        "outputId": "c6b75de7-0229-4e43-d073-c7d46c344ab5",
        "colab": {
          "base_uri": "https://localhost:8080/",
          "height": 204
        }
      },
      "source": [
        "train.head()"
      ],
      "execution_count": 0,
      "outputs": [
        {
          "output_type": "execute_result",
          "data": {
            "text/html": [
              "<div>\n",
              "<style scoped>\n",
              "    .dataframe tbody tr th:only-of-type {\n",
              "        vertical-align: middle;\n",
              "    }\n",
              "\n",
              "    .dataframe tbody tr th {\n",
              "        vertical-align: top;\n",
              "    }\n",
              "\n",
              "    .dataframe thead th {\n",
              "        text-align: right;\n",
              "    }\n",
              "</style>\n",
              "<table border=\"1\" class=\"dataframe\">\n",
              "  <thead>\n",
              "    <tr style=\"text-align: right;\">\n",
              "      <th></th>\n",
              "      <th>id</th>\n",
              "      <th>document</th>\n",
              "      <th>label</th>\n",
              "    </tr>\n",
              "  </thead>\n",
              "  <tbody>\n",
              "    <tr>\n",
              "      <th>0</th>\n",
              "      <td>9976970</td>\n",
              "      <td>아 더빙.. 진짜 짜증나네요 목소리</td>\n",
              "      <td>0</td>\n",
              "    </tr>\n",
              "    <tr>\n",
              "      <th>1</th>\n",
              "      <td>3819312</td>\n",
              "      <td>흠...포스터보고 초딩영화줄....오버연기조차 가볍지 않구나</td>\n",
              "      <td>1</td>\n",
              "    </tr>\n",
              "    <tr>\n",
              "      <th>2</th>\n",
              "      <td>10265843</td>\n",
              "      <td>너무재밓었다그래서보는것을추천한다</td>\n",
              "      <td>0</td>\n",
              "    </tr>\n",
              "    <tr>\n",
              "      <th>3</th>\n",
              "      <td>9045019</td>\n",
              "      <td>교도소 이야기구먼 ..솔직히 재미는 없다..평점 조정</td>\n",
              "      <td>0</td>\n",
              "    </tr>\n",
              "    <tr>\n",
              "      <th>4</th>\n",
              "      <td>6483659</td>\n",
              "      <td>사이몬페그의 익살스런 연기가 돋보였던 영화!스파이더맨에서 늙어보이기만 했던 커스틴 ...</td>\n",
              "      <td>1</td>\n",
              "    </tr>\n",
              "  </tbody>\n",
              "</table>\n",
              "</div>"
            ],
            "text/plain": [
              "         id                                           document  label\n",
              "0   9976970                                아 더빙.. 진짜 짜증나네요 목소리      0\n",
              "1   3819312                  흠...포스터보고 초딩영화줄....오버연기조차 가볍지 않구나      1\n",
              "2  10265843                                  너무재밓었다그래서보는것을추천한다      0\n",
              "3   9045019                      교도소 이야기구먼 ..솔직히 재미는 없다..평점 조정      0\n",
              "4   6483659  사이몬페그의 익살스런 연기가 돋보였던 영화!스파이더맨에서 늙어보이기만 했던 커스틴 ...      1"
            ]
          },
          "metadata": {
            "tags": []
          },
          "execution_count": 11
        }
      ]
    },
    {
      "cell_type": "code",
      "metadata": {
        "id": "a8OpJ0mD7eZW",
        "colab_type": "code",
        "outputId": "86701f58-ec3a-4008-de99-3a35948be918",
        "colab": {
          "base_uri": "https://localhost:8080/",
          "height": 204
        }
      },
      "source": [
        "test.head()"
      ],
      "execution_count": 0,
      "outputs": [
        {
          "output_type": "execute_result",
          "data": {
            "text/html": [
              "<div>\n",
              "<style scoped>\n",
              "    .dataframe tbody tr th:only-of-type {\n",
              "        vertical-align: middle;\n",
              "    }\n",
              "\n",
              "    .dataframe tbody tr th {\n",
              "        vertical-align: top;\n",
              "    }\n",
              "\n",
              "    .dataframe thead th {\n",
              "        text-align: right;\n",
              "    }\n",
              "</style>\n",
              "<table border=\"1\" class=\"dataframe\">\n",
              "  <thead>\n",
              "    <tr style=\"text-align: right;\">\n",
              "      <th></th>\n",
              "      <th>id</th>\n",
              "      <th>document</th>\n",
              "      <th>label</th>\n",
              "    </tr>\n",
              "  </thead>\n",
              "  <tbody>\n",
              "    <tr>\n",
              "      <th>0</th>\n",
              "      <td>6270596</td>\n",
              "      <td>굳 ㅋ</td>\n",
              "      <td>1</td>\n",
              "    </tr>\n",
              "    <tr>\n",
              "      <th>1</th>\n",
              "      <td>9274899</td>\n",
              "      <td>GDNTOPCLASSINTHECLUB</td>\n",
              "      <td>0</td>\n",
              "    </tr>\n",
              "    <tr>\n",
              "      <th>2</th>\n",
              "      <td>8544678</td>\n",
              "      <td>뭐야 이 평점들은.... 나쁘진 않지만 10점 짜리는 더더욱 아니잖아</td>\n",
              "      <td>0</td>\n",
              "    </tr>\n",
              "    <tr>\n",
              "      <th>3</th>\n",
              "      <td>6825595</td>\n",
              "      <td>지루하지는 않은데 완전 막장임... 돈주고 보기에는....</td>\n",
              "      <td>0</td>\n",
              "    </tr>\n",
              "    <tr>\n",
              "      <th>4</th>\n",
              "      <td>6723715</td>\n",
              "      <td>3D만 아니었어도 별 다섯 개 줬을텐데.. 왜 3D로 나와서 제 심기를 불편하게 하죠??</td>\n",
              "      <td>0</td>\n",
              "    </tr>\n",
              "  </tbody>\n",
              "</table>\n",
              "</div>"
            ],
            "text/plain": [
              "        id                                           document  label\n",
              "0  6270596                                                굳 ㅋ      1\n",
              "1  9274899                               GDNTOPCLASSINTHECLUB      0\n",
              "2  8544678             뭐야 이 평점들은.... 나쁘진 않지만 10점 짜리는 더더욱 아니잖아      0\n",
              "3  6825595                   지루하지는 않은데 완전 막장임... 돈주고 보기에는....      0\n",
              "4  6723715  3D만 아니었어도 별 다섯 개 줬을텐데.. 왜 3D로 나와서 제 심기를 불편하게 하죠??      0"
            ]
          },
          "metadata": {
            "tags": []
          },
          "execution_count": 12
        }
      ]
    },
    {
      "cell_type": "code",
      "metadata": {
        "id": "4g81xif_7ber",
        "colab_type": "code",
        "outputId": "60a9e7e4-d2d3-478b-a606-0e66db91ca45",
        "colab": {
          "base_uri": "https://localhost:8080/",
          "height": 197
        }
      },
      "source": [
        "train.info()"
      ],
      "execution_count": 0,
      "outputs": [
        {
          "output_type": "stream",
          "text": [
            "<class 'pandas.core.frame.DataFrame'>\n",
            "RangeIndex: 150000 entries, 0 to 149999\n",
            "Data columns (total 3 columns):\n",
            " #   Column    Non-Null Count   Dtype \n",
            "---  ------    --------------   ----- \n",
            " 0   id        150000 non-null  int64 \n",
            " 1   document  149995 non-null  object\n",
            " 2   label     150000 non-null  int64 \n",
            "dtypes: int64(2), object(1)\n",
            "memory usage: 3.4+ MB\n"
          ],
          "name": "stdout"
        }
      ]
    },
    {
      "cell_type": "code",
      "metadata": {
        "id": "nxAVrl_7BRru",
        "colab_type": "code",
        "outputId": "f2fa81d1-d9fb-4b48-8cad-27dfc3242347",
        "colab": {
          "base_uri": "https://localhost:8080/",
          "height": 197
        }
      },
      "source": [
        "test.info()"
      ],
      "execution_count": 0,
      "outputs": [
        {
          "output_type": "stream",
          "text": [
            "<class 'pandas.core.frame.DataFrame'>\n",
            "RangeIndex: 50000 entries, 0 to 49999\n",
            "Data columns (total 3 columns):\n",
            " #   Column    Non-Null Count  Dtype \n",
            "---  ------    --------------  ----- \n",
            " 0   id        50000 non-null  int64 \n",
            " 1   document  49997 non-null  object\n",
            " 2   label     50000 non-null  int64 \n",
            "dtypes: int64(2), object(1)\n",
            "memory usage: 1.1+ MB\n"
          ],
          "name": "stdout"
        }
      ]
    },
    {
      "cell_type": "code",
      "metadata": {
        "id": "uSkejJX67n0m",
        "colab_type": "code",
        "outputId": "a20f0ae9-1cf8-435d-ead6-8cb0f42c2c6b",
        "colab": {
          "base_uri": "https://localhost:8080/",
          "height": 71
        }
      },
      "source": [
        "train['label'].value_counts()"
      ],
      "execution_count": 0,
      "outputs": [
        {
          "output_type": "execute_result",
          "data": {
            "text/plain": [
              "0    75173\n",
              "1    74827\n",
              "Name: label, dtype: int64"
            ]
          },
          "metadata": {
            "tags": []
          },
          "execution_count": 15
        }
      ]
    },
    {
      "cell_type": "code",
      "metadata": {
        "id": "FFNEjAtKBVVA",
        "colab_type": "code",
        "outputId": "4936934b-0afa-4a3e-d665-ade8207ad556",
        "colab": {
          "base_uri": "https://localhost:8080/",
          "height": 71
        }
      },
      "source": [
        "test['label'].value_counts()"
      ],
      "execution_count": 0,
      "outputs": [
        {
          "output_type": "execute_result",
          "data": {
            "text/plain": [
              "1    25173\n",
              "0    24827\n",
              "Name: label, dtype: int64"
            ]
          },
          "metadata": {
            "tags": []
          },
          "execution_count": 16
        }
      ]
    },
    {
      "cell_type": "code",
      "metadata": {
        "id": "UlghWmd374Hl",
        "colab_type": "code",
        "outputId": "d180dfaa-ecf8-4a6b-e8f1-34b573c34589",
        "colab": {
          "base_uri": "https://localhost:8080/",
          "height": 350
        }
      },
      "source": [
        "f,ax=plt.subplots(1,2,figsize=[10,5])\n",
        "\n",
        "sns.countplot('label',data=train,ax=ax[0])\n",
        "ax[0].set_title(\"Train\")\n",
        "\n",
        "sns.countplot('label',data=test,ax=ax[1])\n",
        "ax[1].set_title(\"Test\")\n",
        "plt.show()"
      ],
      "execution_count": 0,
      "outputs": [
        {
          "output_type": "display_data",
          "data": {
            "image/png": "[encoded data removed]",
            "text/plain": [
              "<Figure size 720x360 with 2 Axes>"
            ]
          },
          "metadata": {
            "tags": [],
            "needs_background": "light"
          }
        }
      ]
    },
    {
      "cell_type": "code",
      "metadata": {
        "id": "qfdwz68h8Auw",
        "colab_type": "code",
        "outputId": "9eed63f5-5f03-4d15-81aa-75fa1dee4261",
        "colab": {
          "base_uri": "https://localhost:8080/",
          "height": 35
        }
      },
      "source": [
        "train['document'].isnull().sum()"
      ],
      "execution_count": 0,
      "outputs": [
        {
          "output_type": "execute_result",
          "data": {
            "text/plain": [
              "5"
            ]
          },
          "metadata": {
            "tags": []
          },
          "execution_count": 18
        }
      ]
    },
    {
      "cell_type": "code",
      "metadata": {
        "id": "uw9G6W7YEbh2",
        "colab_type": "code",
        "outputId": "2b7d37f0-06a5-4f96-c6ab-d44d7bcb3b3d",
        "colab": {
          "base_uri": "https://localhost:8080/",
          "height": 204
        }
      },
      "source": [
        "#null 값이 있는 곳의 위치 확인\n",
        "train.loc[train['document'].isnull()]"
      ],
      "execution_count": 0,
      "outputs": [
        {
          "output_type": "execute_result",
          "data": {
            "text/html": [
              "<div>\n",
              "<style scoped>\n",
              "    .dataframe tbody tr th:only-of-type {\n",
              "        vertical-align: middle;\n",
              "    }\n",
              "\n",
              "    .dataframe tbody tr th {\n",
              "        vertical-align: top;\n",
              "    }\n",
              "\n",
              "    .dataframe thead th {\n",
              "        text-align: right;\n",
              "    }\n",
              "</style>\n",
              "<table border=\"1\" class=\"dataframe\">\n",
              "  <thead>\n",
              "    <tr style=\"text-align: right;\">\n",
              "      <th></th>\n",
              "      <th>id</th>\n",
              "      <th>document</th>\n",
              "      <th>label</th>\n",
              "    </tr>\n",
              "  </thead>\n",
              "  <tbody>\n",
              "    <tr>\n",
              "      <th>25857</th>\n",
              "      <td>2172111</td>\n",
              "      <td>NaN</td>\n",
              "      <td>1</td>\n",
              "    </tr>\n",
              "    <tr>\n",
              "      <th>55737</th>\n",
              "      <td>6369843</td>\n",
              "      <td>NaN</td>\n",
              "      <td>1</td>\n",
              "    </tr>\n",
              "    <tr>\n",
              "      <th>110014</th>\n",
              "      <td>1034280</td>\n",
              "      <td>NaN</td>\n",
              "      <td>0</td>\n",
              "    </tr>\n",
              "    <tr>\n",
              "      <th>126782</th>\n",
              "      <td>5942978</td>\n",
              "      <td>NaN</td>\n",
              "      <td>0</td>\n",
              "    </tr>\n",
              "    <tr>\n",
              "      <th>140721</th>\n",
              "      <td>1034283</td>\n",
              "      <td>NaN</td>\n",
              "      <td>0</td>\n",
              "    </tr>\n",
              "  </tbody>\n",
              "</table>\n",
              "</div>"
            ],
            "text/plain": [
              "             id document  label\n",
              "25857   2172111      NaN      1\n",
              "55737   6369843      NaN      1\n",
              "110014  1034280      NaN      0\n",
              "126782  5942978      NaN      0\n",
              "140721  1034283      NaN      0"
            ]
          },
          "metadata": {
            "tags": []
          },
          "execution_count": 19
        }
      ]
    },
    {
      "cell_type": "code",
      "metadata": {
        "id": "5PFA4Wxh8W0j",
        "colab_type": "code",
        "colab": {}
      },
      "source": [
        "train=train.dropna(axis=0)"
      ],
      "execution_count": 0,
      "outputs": []
    },
    {
      "cell_type": "code",
      "metadata": {
        "id": "7nfVCm22_nku",
        "colab_type": "code",
        "outputId": "517d65b5-9771-4e78-92bf-233a29d94adf",
        "colab": {
          "base_uri": "https://localhost:8080/",
          "height": 197
        }
      },
      "source": [
        "train.info()"
      ],
      "execution_count": 0,
      "outputs": [
        {
          "output_type": "stream",
          "text": [
            "<class 'pandas.core.frame.DataFrame'>\n",
            "Int64Index: 149995 entries, 0 to 149999\n",
            "Data columns (total 3 columns):\n",
            " #   Column    Non-Null Count   Dtype \n",
            "---  ------    --------------   ----- \n",
            " 0   id        149995 non-null  int64 \n",
            " 1   document  149995 non-null  object\n",
            " 2   label     149995 non-null  int64 \n",
            "dtypes: int64(2), object(1)\n",
            "memory usage: 4.6+ MB\n"
          ],
          "name": "stdout"
        }
      ]
    },
    {
      "cell_type": "code",
      "metadata": {
        "id": "96_wGcSHCloi",
        "colab_type": "code",
        "colab": {}
      },
      "source": [
        "uniq=np.unique(train['document'])"
      ],
      "execution_count": 0,
      "outputs": []
    },
    {
      "cell_type": "code",
      "metadata": {
        "id": "c_gWsaH-Dbto",
        "colab_type": "code",
        "outputId": "37db6231-2d93-495d-e660-4f986ad3c811",
        "colab": {
          "base_uri": "https://localhost:8080/",
          "height": 35
        }
      },
      "source": [
        "len(uniq)"
      ],
      "execution_count": 0,
      "outputs": [
        {
          "output_type": "execute_result",
          "data": {
            "text/plain": [
              "146182"
            ]
          },
          "metadata": {
            "tags": []
          },
          "execution_count": 23
        }
      ]
    },
    {
      "cell_type": "code",
      "metadata": {
        "id": "Ips29DmFDcXm",
        "colab_type": "code",
        "colab": {}
      },
      "source": [
        "#중복 데이터 제거\n",
        "\n",
        "train.drop_duplicates(subset=['document'],inplace=True)"
      ],
      "execution_count": 0,
      "outputs": []
    },
    {
      "cell_type": "code",
      "metadata": {
        "id": "l9reKVlzEBW-",
        "colab_type": "code",
        "outputId": "5e1542b9-7d19-4e91-c377-379752d1698a",
        "colab": {
          "base_uri": "https://localhost:8080/",
          "height": 197
        }
      },
      "source": [
        "train.info()"
      ],
      "execution_count": 0,
      "outputs": [
        {
          "output_type": "stream",
          "text": [
            "<class 'pandas.core.frame.DataFrame'>\n",
            "Int64Index: 146182 entries, 0 to 149999\n",
            "Data columns (total 3 columns):\n",
            " #   Column    Non-Null Count   Dtype \n",
            "---  ------    --------------   ----- \n",
            " 0   id        146182 non-null  int64 \n",
            " 1   document  146182 non-null  object\n",
            " 2   label     146182 non-null  int64 \n",
            "dtypes: int64(2), object(1)\n",
            "memory usage: 4.5+ MB\n"
          ],
          "name": "stdout"
        }
      ]
    },
    {
      "cell_type": "code",
      "metadata": {
        "id": "yFQHc9paEEG1",
        "colab_type": "code",
        "outputId": "2317ef45-7e79-45c0-e688-ef9291f49627",
        "colab": {
          "base_uri": "https://localhost:8080/",
          "height": 71
        }
      },
      "source": [
        "train['label'].value_counts()"
      ],
      "execution_count": 0,
      "outputs": [
        {
          "output_type": "execute_result",
          "data": {
            "text/plain": [
              "0    73342\n",
              "1    72840\n",
              "Name: label, dtype: int64"
            ]
          },
          "metadata": {
            "tags": []
          },
          "execution_count": 26
        }
      ]
    },
    {
      "cell_type": "markdown",
      "metadata": {
        "id": "L77tjqW6ryTV",
        "colab_type": "text"
      },
      "source": [
        "# 2. 데이터 전처리"
      ]
    },
    {
      "cell_type": "code",
      "metadata": {
        "id": "WrXXA4OJE_z3",
        "colab_type": "code",
        "outputId": "38578137-15d7-4c51-f0dd-70923e23864f",
        "colab": {
          "base_uri": "https://localhost:8080/",
          "height": 204
        }
      },
      "source": [
        "# #정규표현식을 이용한 특수문자 등 제거\n",
        "\n",
        "# train['document']=train['document'].str.replace(\"[^ㄱ-ㅎㅏ-ㅣ가-힣 ]\",\"\")\n",
        "# train.head()"
      ],
      "execution_count": 0,
      "outputs": [
        {
          "output_type": "execute_result",
          "data": {
            "text/html": [
              "<div>\n",
              "<style scoped>\n",
              "    .dataframe tbody tr th:only-of-type {\n",
              "        vertical-align: middle;\n",
              "    }\n",
              "\n",
              "    .dataframe tbody tr th {\n",
              "        vertical-align: top;\n",
              "    }\n",
              "\n",
              "    .dataframe thead th {\n",
              "        text-align: right;\n",
              "    }\n",
              "</style>\n",
              "<table border=\"1\" class=\"dataframe\">\n",
              "  <thead>\n",
              "    <tr style=\"text-align: right;\">\n",
              "      <th></th>\n",
              "      <th>id</th>\n",
              "      <th>document</th>\n",
              "      <th>label</th>\n",
              "    </tr>\n",
              "  </thead>\n",
              "  <tbody>\n",
              "    <tr>\n",
              "      <th>0</th>\n",
              "      <td>9976970</td>\n",
              "      <td>아 더빙 진짜 짜증나네요 목소리</td>\n",
              "      <td>0</td>\n",
              "    </tr>\n",
              "    <tr>\n",
              "      <th>1</th>\n",
              "      <td>3819312</td>\n",
              "      <td>흠포스터보고 초딩영화줄오버연기조차 가볍지 않구나</td>\n",
              "      <td>1</td>\n",
              "    </tr>\n",
              "    <tr>\n",
              "      <th>2</th>\n",
              "      <td>10265843</td>\n",
              "      <td>너무재밓었다그래서보는것을추천한다</td>\n",
              "      <td>0</td>\n",
              "    </tr>\n",
              "    <tr>\n",
              "      <th>3</th>\n",
              "      <td>9045019</td>\n",
              "      <td>교도소 이야기구먼 솔직히 재미는 없다평점 조정</td>\n",
              "      <td>0</td>\n",
              "    </tr>\n",
              "    <tr>\n",
              "      <th>4</th>\n",
              "      <td>6483659</td>\n",
              "      <td>사이몬페그의 익살스런 연기가 돋보였던 영화스파이더맨에서 늙어보이기만 했던 커스틴 던...</td>\n",
              "      <td>1</td>\n",
              "    </tr>\n",
              "  </tbody>\n",
              "</table>\n",
              "</div>"
            ],
            "text/plain": [
              "         id                                           document  label\n",
              "0   9976970                                  아 더빙 진짜 짜증나네요 목소리      0\n",
              "1   3819312                         흠포스터보고 초딩영화줄오버연기조차 가볍지 않구나      1\n",
              "2  10265843                                  너무재밓었다그래서보는것을추천한다      0\n",
              "3   9045019                          교도소 이야기구먼 솔직히 재미는 없다평점 조정      0\n",
              "4   6483659  사이몬페그의 익살스런 연기가 돋보였던 영화스파이더맨에서 늙어보이기만 했던 커스틴 던...      1"
            ]
          },
          "metadata": {
            "tags": []
          },
          "execution_count": 27
        }
      ]
    },
    {
      "cell_type": "code",
      "metadata": {
        "id": "XrZJjuiBqDIz",
        "colab_type": "code",
        "colab": {}
      },
      "source": [
        "#공백 처리된 데이터 NaN 값으로 변경\n",
        "\n",
        "train['document'].replace(\"\",np.nan,inplace=True)"
      ],
      "execution_count": 0,
      "outputs": []
    },
    {
      "cell_type": "code",
      "metadata": {
        "id": "H-jkeqlPsIb1",
        "colab_type": "code",
        "outputId": "8943f1fd-94de-4182-9d15-17249cafec63",
        "colab": {
          "base_uri": "https://localhost:8080/",
          "height": 89
        }
      },
      "source": [
        "train.isnull().sum()"
      ],
      "execution_count": 0,
      "outputs": [
        {
          "output_type": "execute_result",
          "data": {
            "text/plain": [
              "id            0\n",
              "document    391\n",
              "label         0\n",
              "dtype: int64"
            ]
          },
          "metadata": {
            "tags": []
          },
          "execution_count": 32
        }
      ]
    },
    {
      "cell_type": "code",
      "metadata": {
        "id": "dkMqEddcsRRq",
        "colab_type": "code",
        "outputId": "f2d8cc16-d66e-49db-a2ef-7aaabb9729aa",
        "colab": {
          "base_uri": "https://localhost:8080/",
          "height": 359
        }
      },
      "source": [
        "train.loc[train.document.isnull()][:10]"
      ],
      "execution_count": 0,
      "outputs": [
        {
          "output_type": "execute_result",
          "data": {
            "text/html": [
              "<div>\n",
              "<style scoped>\n",
              "    .dataframe tbody tr th:only-of-type {\n",
              "        vertical-align: middle;\n",
              "    }\n",
              "\n",
              "    .dataframe tbody tr th {\n",
              "        vertical-align: top;\n",
              "    }\n",
              "\n",
              "    .dataframe thead th {\n",
              "        text-align: right;\n",
              "    }\n",
              "</style>\n",
              "<table border=\"1\" class=\"dataframe\">\n",
              "  <thead>\n",
              "    <tr style=\"text-align: right;\">\n",
              "      <th></th>\n",
              "      <th>id</th>\n",
              "      <th>document</th>\n",
              "      <th>label</th>\n",
              "    </tr>\n",
              "  </thead>\n",
              "  <tbody>\n",
              "    <tr>\n",
              "      <th>584</th>\n",
              "      <td>7117896</td>\n",
              "      <td>NaN</td>\n",
              "      <td>0</td>\n",
              "    </tr>\n",
              "    <tr>\n",
              "      <th>593</th>\n",
              "      <td>6478189</td>\n",
              "      <td>NaN</td>\n",
              "      <td>0</td>\n",
              "    </tr>\n",
              "    <tr>\n",
              "      <th>638</th>\n",
              "      <td>9364602</td>\n",
              "      <td>NaN</td>\n",
              "      <td>0</td>\n",
              "    </tr>\n",
              "    <tr>\n",
              "      <th>668</th>\n",
              "      <td>1600635</td>\n",
              "      <td>NaN</td>\n",
              "      <td>0</td>\n",
              "    </tr>\n",
              "    <tr>\n",
              "      <th>1559</th>\n",
              "      <td>6918082</td>\n",
              "      <td>NaN</td>\n",
              "      <td>1</td>\n",
              "    </tr>\n",
              "    <tr>\n",
              "      <th>1840</th>\n",
              "      <td>7095375</td>\n",
              "      <td>NaN</td>\n",
              "      <td>1</td>\n",
              "    </tr>\n",
              "    <tr>\n",
              "      <th>2073</th>\n",
              "      <td>384233</td>\n",
              "      <td>NaN</td>\n",
              "      <td>1</td>\n",
              "    </tr>\n",
              "    <tr>\n",
              "      <th>2327</th>\n",
              "      <td>9317820</td>\n",
              "      <td>NaN</td>\n",
              "      <td>1</td>\n",
              "    </tr>\n",
              "    <tr>\n",
              "      <th>2648</th>\n",
              "      <td>423224</td>\n",
              "      <td>NaN</td>\n",
              "      <td>1</td>\n",
              "    </tr>\n",
              "    <tr>\n",
              "      <th>2834</th>\n",
              "      <td>3645129</td>\n",
              "      <td>NaN</td>\n",
              "      <td>0</td>\n",
              "    </tr>\n",
              "  </tbody>\n",
              "</table>\n",
              "</div>"
            ],
            "text/plain": [
              "           id document  label\n",
              "584   7117896      NaN      0\n",
              "593   6478189      NaN      0\n",
              "638   9364602      NaN      0\n",
              "668   1600635      NaN      0\n",
              "1559  6918082      NaN      1\n",
              "1840  7095375      NaN      1\n",
              "2073   384233      NaN      1\n",
              "2327  9317820      NaN      1\n",
              "2648   423224      NaN      1\n",
              "2834  3645129      NaN      0"
            ]
          },
          "metadata": {
            "tags": []
          },
          "execution_count": 33
        }
      ]
    },
    {
      "cell_type": "code",
      "metadata": {
        "id": "J-yUSFFrsXzH",
        "colab_type": "code",
        "outputId": "18af4729-5556-4e76-87d8-4879a7c1245a",
        "colab": {
          "base_uri": "https://localhost:8080/",
          "height": 89
        }
      },
      "source": [
        "train=train.dropna(axis=0)\n",
        "train.isnull().sum()"
      ],
      "execution_count": 0,
      "outputs": [
        {
          "output_type": "execute_result",
          "data": {
            "text/plain": [
              "id          0\n",
              "document    0\n",
              "label       0\n",
              "dtype: int64"
            ]
          },
          "metadata": {
            "tags": []
          },
          "execution_count": 34
        }
      ]
    },
    {
      "cell_type": "code",
      "metadata": {
        "id": "lxAuRp4zs6TS",
        "colab_type": "code",
        "colab": {}
      },
      "source": [
        "len(train)"
      ],
      "execution_count": 0,
      "outputs": []
    },
    {
      "cell_type": "code",
      "metadata": {
        "id": "NlqTRwiGs_Bo",
        "colab_type": "code",
        "outputId": "5afb3b6e-14e1-44e8-e239-8d6001c614af",
        "colab": {
          "base_uri": "https://localhost:8080/",
          "height": 35
        }
      },
      "source": [
        "test.drop_duplicates(subset = ['document'], inplace=True) # document 열에서 중복인 내용이 있다면 중복 제거\n",
        "# test['document'] = test['document'].str.replace(\"[^ㄱ-ㅎㅏ-ㅣ가-힣 ]\",\"\") # 정규 표현식 수행\n",
        "test['document'].replace('', np.nan, inplace=True) # 공백은 Null 값으로 변경\n",
        "test = test.dropna(how='any') # Null 값 제거\n",
        "print('전처리 후 테스트용 샘플의 개수 :',len(test))"
      ],
      "execution_count": 0,
      "outputs": [
        {
          "output_type": "stream",
          "text": [
            "전처리 후 테스트용 샘플의 개수 : 49157\n"
          ],
          "name": "stdout"
        }
      ]
    },
    {
      "cell_type": "markdown",
      "metadata": {
        "id": "jG7NrPkMwaL8",
        "colab_type": "text"
      },
      "source": [
        "2-1 토큰화"
      ]
    },
    {
      "cell_type": "code",
      "metadata": {
        "id": "elWtjiRDuHwM",
        "colab_type": "code",
        "colab": {}
      },
      "source": [
        "#stopwords 정의, 경우에 따라 추가 가능!\n",
        "stopwords = ['의','가','이','은','들','는','좀','잘','걍','과','도','를','으로','자','에','와','한','하다']"
      ],
      "execution_count": 0,
      "outputs": []
    },
    {
      "cell_type": "code",
      "metadata": {
        "id": "1leXBqiWvGOq",
        "colab_type": "code",
        "colab": {}
      },
      "source": [
        "okt=Okt()"
      ],
      "execution_count": 0,
      "outputs": []
    },
    {
      "cell_type": "code",
      "metadata": {
        "id": "1h0qPSkBvMPP",
        "colab_type": "code",
        "colab": {}
      },
      "source": [
        "# #트레인 데이터 토큰화\n",
        "# X_train=[]\n",
        "# for sentence in train['document']:\n",
        "#   temp_X=[]\n",
        "#   temp_X=okt.morphs(sentence,stem=True)\n",
        "#   temp_X=[word for word in temp_X if word not in stopwords]\n",
        "#   X_train.append(temp_X)\n",
        "\n",
        "\n",
        "# #시간 절약을 위한 토큰화된 데이터 드라이브 저장\n",
        "# with open('/content/drive/My Drive/xtrain_re.txt','wb') as f:\n",
        "#   pickle.dump(X_train,f)"
      ],
      "execution_count": 0,
      "outputs": []
    },
    {
      "cell_type": "code",
      "metadata": {
        "id": "ELMubkm7Pwig",
        "colab_type": "code",
        "colab": {}
      },
      "source": [
        "#시간 절약을 위한 데이터 로딩\n",
        "\n",
        "with open('/content/drive/My Drive/xtrain_re.txt','rb') as file:\n",
        "  X_train=[]\n",
        "  while True:\n",
        "    try:\n",
        "      data=pickle.load(file)\n",
        "    except EOFError:\n",
        "      break\n",
        "    X_train=data\n"
      ],
      "execution_count": 0,
      "outputs": []
    },
    {
      "cell_type": "code",
      "metadata": {
        "id": "VWVMctwKSHm5",
        "colab_type": "code",
        "outputId": "af4d0718-aff4-4311-9976-7dfd11397195",
        "colab": {
          "base_uri": "https://localhost:8080/",
          "height": 377
        }
      },
      "source": [
        "X_train[:5]"
      ],
      "execution_count": 0,
      "outputs": [
        {
          "output_type": "execute_result",
          "data": {
            "text/plain": [
              "[['아', '더빙', '진짜', '짜증나다', '목소리'],\n",
              " ['흠', '포스터', '보고', '초딩', '영화', '줄', '오버', '연기', '조차', '가볍다', '않다'],\n",
              " ['너', '무재', '밓었', '다그', '래서', '보다', '추천', '다'],\n",
              " ['교도소', '이야기', '구먼', '솔직하다', '재미', '없다', '평점', '조정'],\n",
              " ['사이',\n",
              "  '몬페',\n",
              "  '그',\n",
              "  '익살스럽다',\n",
              "  '연기',\n",
              "  '돋보이다',\n",
              "  '영화',\n",
              "  '스파이더맨',\n",
              "  '에서',\n",
              "  '늙다',\n",
              "  '보이다',\n",
              "  '커스틴',\n",
              "  '던스트',\n",
              "  '너무나도',\n",
              "  '이쁘다',\n",
              "  '보이다']]"
            ]
          },
          "metadata": {
            "tags": []
          },
          "execution_count": 39
        }
      ]
    },
    {
      "cell_type": "code",
      "metadata": {
        "id": "WWTr8d8SzQSt",
        "colab_type": "code",
        "colab": {}
      },
      "source": [
        "#테스트 테이터 토큰화\n",
        "\n",
        "X_test = []\n",
        "for sentence in test['document']:\n",
        "    temp_X = []\n",
        "    temp_X = okt.morphs(sentence, stem=True) # 토큰화\n",
        "    temp_X = [word for word in temp_X if not word in stopwords]\n",
        "    X_test.append(temp_X)\n",
        "\n",
        "with open('/content/drive/My Drive/xtest_re.txt','wb') as f:\n",
        "  pickle.dump(X_test,f)"
      ],
      "execution_count": 0,
      "outputs": []
    },
    {
      "cell_type": "code",
      "metadata": {
        "id": "oSlJIFFmWSAT",
        "colab_type": "code",
        "colab": {}
      },
      "source": [
        "with open('/content/drive/My Drive/xtest_re.txt','rb') as file:\n",
        "  X_test=[]\n",
        "  data=pickle.load(file)\n",
        "  X_test=data\n"
      ],
      "execution_count": 0,
      "outputs": []
    },
    {
      "cell_type": "markdown",
      "metadata": {
        "id": "pz7OmK_f1Km5",
        "colab_type": "text"
      },
      "source": [
        "2-2 정수인코딩\n"
      ]
    },
    {
      "cell_type": "code",
      "metadata": {
        "id": "83Z6BqWF0D3C",
        "colab_type": "code",
        "colab": {}
      },
      "source": [
        "tokenizer=Tokenizer()\n",
        "tokenizer.fit_on_texts(X_train)"
      ],
      "execution_count": 0,
      "outputs": []
    },
    {
      "cell_type": "code",
      "metadata": {
        "id": "RzPSN2pK1NpC",
        "colab_type": "code",
        "outputId": "e8b60f69-3bd9-490e-d2fd-99d273f8e3c2",
        "colab": {
          "base_uri": "https://localhost:8080/",
          "height": 35
        }
      },
      "source": [
        "#단어의 등장 빈도수가 많을 수록 낮은 인덱스를 부여받는다.\n",
        "\n",
        "tokenizer.word_index\n",
        "len(tokenizer.word_index)"
      ],
      "execution_count": 0,
      "outputs": [
        {
          "output_type": "execute_result",
          "data": {
            "text/plain": [
              "43752"
            ]
          },
          "metadata": {
            "tags": []
          },
          "execution_count": 43
        }
      ]
    },
    {
      "cell_type": "code",
      "metadata": {
        "id": "C-YioCVC1go0",
        "colab_type": "code",
        "outputId": "ff2cae91-025a-4529-e12d-f7d46eea95a2",
        "colab": {
          "base_uri": "https://localhost:8080/",
          "height": 89
        }
      },
      "source": [
        "#빈도수가 3회 미만으로 낮은 단어 확인\n",
        "#빈도수가 너무 낮은 단어를 피팅에서 제외하기 위함\n",
        "\n",
        "threshold = 3 #기준\n",
        "total_cnt=len(tokenizer.word_index)\n",
        "rare_cnt=0\n",
        "total_freq=0\n",
        "rare_freq=0\n",
        "\n",
        "\n",
        "for k,v in tokenizer.word_counts.items():\n",
        "  total_freq=total_freq+v\n",
        "\n",
        "  if(v<threshold):\n",
        "    rare_cnt+=1\n",
        "    rare_freq+=v\n",
        "\n",
        "\n",
        "print('단어 집합의 크기: ',total_cnt)\n",
        "print('등장 빈도가 3회 미만인 단어의 수: ',rare_cnt )\n",
        "print('단어 집합에서 희귀 단어의 비율: ',(rare_cnt/total_cnt)*100)\n",
        "print('전체 등장 빈도에서 희귀 단어 등장 빈도 비율: ',(rare_freq/total_freq)*100)\n"
      ],
      "execution_count": 0,
      "outputs": [
        {
          "output_type": "stream",
          "text": [
            "단어 집합의 크기:  43752\n",
            "등장 빈도가 3회 미만인 단어의 수:  24337\n",
            "단어 집합에서 희귀 단어의 비율:  55.62488571950996\n",
            "전체 등장 빈도에서 희귀 단어 등장 빈도 비율:  1.8715872104872904\n"
          ],
          "name": "stdout"
        }
      ]
    },
    {
      "cell_type": "code",
      "metadata": {
        "id": "DZRPrpkV3xUK",
        "colab_type": "code",
        "outputId": "bfc20692-25f4-400b-c75b-f0afc99ccebf",
        "colab": {
          "base_uri": "https://localhost:8080/",
          "height": 35
        }
      },
      "source": [
        "#전체 단어 개수에서 등장 빈도수가 3회 미만인 단어들을 제거하여 단어 집합 크기 제한\n",
        "#0번 패딩을 고려한 +1\n",
        "\n",
        "vocab_size=total_cnt-rare_cnt+1\n",
        "print(\"단어 집합의 크기: \",vocab_size)"
      ],
      "execution_count": 0,
      "outputs": [
        {
          "output_type": "stream",
          "text": [
            "단어 집합의 크기:  19416\n"
          ],
          "name": "stdout"
        }
      ]
    },
    {
      "cell_type": "code",
      "metadata": {
        "id": "y5i_r64F7CYC",
        "colab_type": "code",
        "outputId": "82acdda0-c312-4050-b550-583927c2a989",
        "colab": {
          "base_uri": "https://localhost:8080/",
          "height": 55
        }
      },
      "source": [
        "#각 리뷰에 포함된 단어의 인덱스가 vocab_size를 넘어갈 경우 인코딩에서 제외\n",
        "#즉 인덱스 번호가 19416 이상일 경우, 중요하지 않다고 판단하여 제외\n",
        "\n",
        "tokenizer=Tokenizer(vocab_size)  #가장 빈도가 높은 vocab_size(19416)만큼 사용\n",
        "tokenizer.fit_on_texts(X_train)\n",
        "X_train=tokenizer.texts_to_sequences(X_train)\n",
        "X_test=tokenizer.texts_to_sequences(X_test)\n",
        "\n",
        "print(X_train[:5])"
      ],
      "execution_count": 0,
      "outputs": [
        {
          "output_type": "stream",
          "text": [
            "[[50, 454, 16, 260, 659], [933, 457, 41, 602, 1, 214, 1449, 24, 961, 675, 19], [386, 2444, 2315, 5671, 2, 222, 9], [6492, 105, 8118, 218, 56, 4, 26, 3603], [1023, 29, 9145, 24, 833, 1, 2579, 21, 1108, 240, 14243, 1076, 254, 240]]\n"
          ],
          "name": "stdout"
        }
      ]
    },
    {
      "cell_type": "code",
      "metadata": {
        "id": "GaxJZU8E71O3",
        "colab_type": "code",
        "colab": {}
      },
      "source": [
        "y_train=np.array(train['label'])\n",
        "y_test=np.array(test['label'])"
      ],
      "execution_count": 0,
      "outputs": []
    },
    {
      "cell_type": "code",
      "metadata": {
        "id": "psqMmeNA9OTE",
        "colab_type": "code",
        "colab": {}
      },
      "source": [
        "#빈 샘플 제거 \n",
        "#즉 위에서 피팅을 진행하며 빈도수가 2회 이하인 단어를 삭제했으므로, \n",
        "#그 단어들 만으로 구성된 문장들은 빈 샘플이 됐고, 그러한 빈 샘플들을 제거\n",
        "\n",
        "drop_train=[index for index,sentence in enumerate(X_train) if len(sentence)<1]\n",
        "drop_test=[index for index,sentence in enumerate(X_test) if len(sentence)<1]"
      ],
      "execution_count": 0,
      "outputs": []
    },
    {
      "cell_type": "code",
      "metadata": {
        "id": "KYDOVKIwwfRp",
        "colab_type": "code",
        "outputId": "818ea3dc-5183-4a16-c017-479f73e343f2",
        "colab": {
          "base_uri": "https://localhost:8080/",
          "height": 53
        }
      },
      "source": [
        "#제거\n",
        "\n",
        "X_train=np.delete(X_train,drop_train,axis=0)\n",
        "y_train=np.delete(y_train,drop_train,axis=0)\n",
        "\n",
        "print(len(X_train))\n",
        "print(len(y_train))"
      ],
      "execution_count": 0,
      "outputs": [
        {
          "output_type": "stream",
          "text": [
            "145162\n",
            "145162\n"
          ],
          "name": "stdout"
        }
      ]
    },
    {
      "cell_type": "code",
      "metadata": {
        "id": "527HtiM6w5Bc",
        "colab_type": "code",
        "outputId": "5e66e2a7-eefa-4ab4-d98c-bee53c28edcb",
        "colab": {
          "base_uri": "https://localhost:8080/",
          "height": 53
        }
      },
      "source": [
        "X_test = np.delete(X_test, drop_test, axis=0)\n",
        "y_test = np.delete(y_test, drop_test, axis=0)\n",
        "print(len(X_test))\n",
        "print(len(y_test))"
      ],
      "execution_count": 0,
      "outputs": [
        {
          "output_type": "stream",
          "text": [
            "48747\n",
            "48747\n"
          ],
          "name": "stdout"
        }
      ]
    },
    {
      "cell_type": "markdown",
      "metadata": {
        "id": "ZKKR5jXqx-sD",
        "colab_type": "text"
      },
      "source": [
        "2-3 패딩\n",
        "\n"
      ]
    },
    {
      "cell_type": "code",
      "metadata": {
        "id": "aRr9uUdvyEK6",
        "colab_type": "code",
        "outputId": "960ccefc-9c57-49ed-cd10-ed2a930c6da6",
        "colab": {
          "base_uri": "https://localhost:8080/",
          "height": 315
        }
      },
      "source": [
        "print('리뷰의 최대 길이: ',max(len(l) for l in X_train))\n",
        "print('리뷰의 평균 길이: ',sum(map(len,X_train))/len(X_train)) #map(a,b) : iterable b에 대하여 a 함수 적용  \n",
        "plt.hist([len(s) for s in X_train],bins=50)\n",
        "plt.xlabel('length of samples')\n",
        "plt.ylabel('number of samples')\n",
        "plt.show()"
      ],
      "execution_count": 0,
      "outputs": [
        {
          "output_type": "stream",
          "text": [
            "리뷰의 최대 길이:  69\n",
            "리뷰의 평균 길이:  10.812485361182679\n"
          ],
          "name": "stdout"
        },
        {
          "output_type": "display_data",
          "data": {
            "image/png": "[encoded data removed]",
            "text/plain": [
              "<Figure size 432x288 with 1 Axes>"
            ]
          },
          "metadata": {
            "tags": [],
            "needs_background": "light"
          }
        }
      ]
    },
    {
      "cell_type": "code",
      "metadata": {
        "id": "SBKtghMYyzDF",
        "colab_type": "code",
        "colab": {}
      },
      "source": [
        "def below_threshold_len(max_len,nested_list):\n",
        "  cnt=0\n",
        "  for s in nested_list:\n",
        "    if(len(s)<=max_len):\n",
        "      cnt=cnt+1\n",
        "  print('전체 샘플 중 길이가 %s 이하인 샘플의 비율: %s' %(max_len,(cnt/len(nested_list))*100))"
      ],
      "execution_count": 0,
      "outputs": []
    },
    {
      "cell_type": "code",
      "metadata": {
        "id": "cx-RCOAp62qm",
        "colab_type": "code",
        "outputId": "86ca809c-eb5f-47aa-c019-ea6837e9562e",
        "colab": {
          "base_uri": "https://localhost:8080/",
          "height": 35
        }
      },
      "source": [
        "max_len=30\n",
        "below_threshold_len(max_len,X_train)"
      ],
      "execution_count": 0,
      "outputs": [
        {
          "output_type": "stream",
          "text": [
            "전체 샘플 중 길이가 30 이하인 샘플의 비율: 94.31944999380003\n"
          ],
          "name": "stdout"
        }
      ]
    },
    {
      "cell_type": "code",
      "metadata": {
        "id": "nhzGiFJ-67iL",
        "colab_type": "code",
        "colab": {}
      },
      "source": [
        "#94 이상의 샘플들이 길이기 30 이하이므로 30의 길이로 패딩\n",
        "\n",
        "X_train=pad_sequences(X_train,maxlen=max_len)\n",
        "X_test=pad_sequences(X_test,maxlen=max_len)"
      ],
      "execution_count": 0,
      "outputs": []
    },
    {
      "cell_type": "code",
      "metadata": {
        "id": "fG7Y8Kay7fEX",
        "colab_type": "code",
        "outputId": "da7e1342-3a2d-4efc-ae0c-634eb4334b9a",
        "colab": {
          "base_uri": "https://localhost:8080/",
          "height": 377
        }
      },
      "source": [
        "X_train[:5]"
      ],
      "execution_count": 0,
      "outputs": [
        {
          "output_type": "execute_result",
          "data": {
            "text/plain": [
              "array([[    0,     0,     0,     0,     0,     0,     0,     0,     0,\n",
              "            0,     0,     0,     0,     0,     0,     0,     0,     0,\n",
              "            0,     0,     0,     0,     0,     0,     0,    50,   454,\n",
              "           16,   260,   659],\n",
              "       [    0,     0,     0,     0,     0,     0,     0,     0,     0,\n",
              "            0,     0,     0,     0,     0,     0,     0,     0,     0,\n",
              "            0,   933,   457,    41,   602,     1,   214,  1449,    24,\n",
              "          961,   675,    19],\n",
              "       [    0,     0,     0,     0,     0,     0,     0,     0,     0,\n",
              "            0,     0,     0,     0,     0,     0,     0,     0,     0,\n",
              "            0,     0,     0,     0,     0,   386,  2444,  2315,  5671,\n",
              "            2,   222,     9],\n",
              "       [    0,     0,     0,     0,     0,     0,     0,     0,     0,\n",
              "            0,     0,     0,     0,     0,     0,     0,     0,     0,\n",
              "            0,     0,     0,     0,  6492,   105,  8118,   218,    56,\n",
              "            4,    26,  3603],\n",
              "       [    0,     0,     0,     0,     0,     0,     0,     0,     0,\n",
              "            0,     0,     0,     0,     0,     0,     0,  1023,    29,\n",
              "         9145,    24,   833,     1,  2579,    21,  1108,   240, 14243,\n",
              "         1076,   254,   240]], dtype=int32)"
            ]
          },
          "metadata": {
            "tags": []
          },
          "execution_count": 55
        }
      ]
    },
    {
      "cell_type": "code",
      "metadata": {
        "id": "UrUUYy9L7gjy",
        "colab_type": "code",
        "colab": {}
      },
      "source": [
        ""
      ],
      "execution_count": 0,
      "outputs": []
    },
    {
      "cell_type": "markdown",
      "metadata": {
        "id": "x2ra04TO7sq6",
        "colab_type": "text"
      },
      "source": [
        "# 3. LSTM을 이용한 딥러닝 신경망 구축"
      ]
    },
    {
      "cell_type": "code",
      "metadata": {
        "id": "3veJ-HXa7zXs",
        "colab_type": "code",
        "colab": {}
      },
      "source": [
        "#모듈 로딩\n",
        "\n",
        "from tensorflow.keras.layers import Embedding, Dense, LSTM\n",
        "from tensorflow.keras.models import Sequential\n",
        "from tensorflow.keras.models import load_model\n",
        "from tensorflow.keras.callbacks import EarlyStopping, ModelCheckpoint #과적합 방지를 위한 EarlyStopping"
      ],
      "execution_count": 0,
      "outputs": []
    },
    {
      "cell_type": "code",
      "metadata": {
        "id": "W9pd1F4K8LAj",
        "colab_type": "code",
        "colab": {}
      },
      "source": [
        "#신경망 구성\n",
        "\n",
        "model=Sequential()\n",
        "model.add(Embedding(vocab_size,100))  #단어임베딩, 샘플 크기 = 사용할 단어 개수, 차원 = 100\n",
        "model.add(LSTM(128))\n",
        "model.add(Dense(1,activation='sigmoid'))"
      ],
      "execution_count": 0,
      "outputs": []
    },
    {
      "cell_type": "code",
      "metadata": {
        "id": "fhRUUrQF91E3",
        "colab_type": "code",
        "colab": {}
      },
      "source": [
        "#더이상 loss가 감소하지 않는다면 학습종료\n",
        "\n",
        "es=EarlyStopping(monitor='val_loss',mode='min',verbose=1,patience=4)\n",
        "\n",
        "\n",
        "#모델 성능(정확도)가 가장 좋을 경우만 저장\n",
        "mc=ModelCheckpoint('best_model_re.h5',monitor='val_acc',mode='max',verbose=1,save_best_only=True)\n",
        "\n"
      ],
      "execution_count": 0,
      "outputs": []
    },
    {
      "cell_type": "code",
      "metadata": {
        "id": "6YEcWSHA5LT_",
        "colab_type": "code",
        "colab": {}
      },
      "source": [
        "with open('/content/drive/My Drive/best_model_re.h5','wb') as f:\n",
        "  pickle.dump('best_model_re.h5',f)"
      ],
      "execution_count": 0,
      "outputs": []
    },
    {
      "cell_type": "code",
      "metadata": {
        "id": "iAX6_WWXDo-f",
        "colab_type": "code",
        "outputId": "51fa55e9-8c09-4af1-e2f0-4a69d476daf5",
        "colab": {
          "base_uri": "https://localhost:8080/",
          "height": 467
        }
      },
      "source": [
        "#모델 컴파일 및 학습\n",
        "\n",
        "model.compile(optimizer='Adam',loss='binary_crossentropy',metrics=['acc'])\n",
        "history=model.fit(X_train,y_train,epochs=15,callbacks=[es,mc],batch_size=60,validation_split=0.2)\n"
      ],
      "execution_count": 0,
      "outputs": [
        {
          "output_type": "stream",
          "text": [
            "Epoch 1/15\n",
            "1935/1936 [============================>.] - ETA: 0s - loss: 0.3855 - acc: 0.8264\n",
            "Epoch 00001: val_acc improved from -inf to 0.84896, saving model to best_model_re.h5\n",
            "1936/1936 [==============================] - 53s 28ms/step - loss: 0.3855 - acc: 0.8264 - val_loss: 0.3480 - val_acc: 0.8490\n",
            "Epoch 2/15\n",
            "1934/1936 [============================>.] - ETA: 0s - loss: 0.2961 - acc: 0.8733\n",
            "Epoch 00002: val_acc improved from 0.84896 to 0.85231, saving model to best_model_re.h5\n",
            "1936/1936 [==============================] - 53s 27ms/step - loss: 0.2961 - acc: 0.8733 - val_loss: 0.3474 - val_acc: 0.8523\n",
            "Epoch 3/15\n",
            "1935/1936 [============================>.] - ETA: 0s - loss: 0.2466 - acc: 0.8966\n",
            "Epoch 00003: val_acc did not improve from 0.85231\n",
            "1936/1936 [==============================] - 54s 28ms/step - loss: 0.2466 - acc: 0.8966 - val_loss: 0.3559 - val_acc: 0.8510\n",
            "Epoch 4/15\n",
            "1935/1936 [============================>.] - ETA: 0s - loss: 0.2038 - acc: 0.9161\n",
            "Epoch 00004: val_acc did not improve from 0.85231\n",
            "1936/1936 [==============================] - 52s 27ms/step - loss: 0.2038 - acc: 0.9161 - val_loss: 0.4134 - val_acc: 0.8412\n",
            "Epoch 5/15\n",
            "1935/1936 [============================>.] - ETA: 0s - loss: 0.1649 - acc: 0.9337\n",
            "Epoch 00005: val_acc did not improve from 0.85231\n",
            "1936/1936 [==============================] - 52s 27ms/step - loss: 0.1649 - acc: 0.9337 - val_loss: 0.4663 - val_acc: 0.8450\n",
            "Epoch 6/15\n",
            "1935/1936 [============================>.] - ETA: 0s - loss: 0.1321 - acc: 0.9476\n",
            "Epoch 00006: val_acc did not improve from 0.85231\n",
            "1936/1936 [==============================] - 53s 27ms/step - loss: 0.1321 - acc: 0.9475 - val_loss: 0.5160 - val_acc: 0.8398\n",
            "Epoch 00006: early stopping\n"
          ],
          "name": "stdout"
        }
      ]
    },
    {
      "cell_type": "code",
      "metadata": {
        "id": "M7vedptib41H",
        "colab_type": "code",
        "colab": {}
      },
      "source": [
        "with open('/content/drive/My Drive/best_model_re.h5','rb') as file:\n",
        "  while True:\n",
        "    try:\n",
        "      loaded_model=pickle.load(file)\n",
        "    except EOFError:\n",
        "      break"
      ],
      "execution_count": 0,
      "outputs": []
    },
    {
      "cell_type": "code",
      "metadata": {
        "id": "4J_ssMJqERA_",
        "colab_type": "code",
        "outputId": "4cd1bb64-d649-4f8b-cb26-8467de138e47",
        "colab": {
          "base_uri": "https://localhost:8080/",
          "height": 358
        }
      },
      "source": [
        "#테스트 \n",
        "loaded=load_model('best_model.h5')\n",
        "print(\"\\n 테스트 정확도: %.4f\" %(loaded_model.evaluate(X_test,y_test)[1]))"
      ],
      "execution_count": 0,
      "outputs": [
        {
          "output_type": "error",
          "ename": "OSError",
          "evalue": "ignored",
          "traceback": [
            "\u001b[0;31m---------------------------------------------------------------------------\u001b[0m",
            "\u001b[0;31mOSError\u001b[0m                                   Traceback (most recent call last)",
            "\u001b[0;32m<ipython-input-129-2dbc50ab787e>\u001b[0m in \u001b[0;36m<module>\u001b[0;34m()\u001b[0m\n\u001b[1;32m      1\u001b[0m \u001b[0;31m#테스트\u001b[0m\u001b[0;34m\u001b[0m\u001b[0;34m\u001b[0m\u001b[0;34m\u001b[0m\u001b[0m\n\u001b[0;32m----> 2\u001b[0;31m \u001b[0mloaded\u001b[0m\u001b[0;34m=\u001b[0m\u001b[0mload_model\u001b[0m\u001b[0;34m(\u001b[0m\u001b[0;34m'best_model.h5'\u001b[0m\u001b[0;34m)\u001b[0m\u001b[0;34m\u001b[0m\u001b[0;34m\u001b[0m\u001b[0m\n\u001b[0m\u001b[1;32m      3\u001b[0m \u001b[0mprint\u001b[0m\u001b[0;34m(\u001b[0m\u001b[0;34m\"\\n 테스트 정확도: %.4f\"\u001b[0m \u001b[0;34m%\u001b[0m\u001b[0;34m(\u001b[0m\u001b[0mloaded_model\u001b[0m\u001b[0;34m.\u001b[0m\u001b[0mevaluate\u001b[0m\u001b[0;34m(\u001b[0m\u001b[0mX_test\u001b[0m\u001b[0;34m,\u001b[0m\u001b[0my_test\u001b[0m\u001b[0;34m)\u001b[0m\u001b[0;34m[\u001b[0m\u001b[0;36m1\u001b[0m\u001b[0;34m]\u001b[0m\u001b[0;34m)\u001b[0m\u001b[0;34m)\u001b[0m\u001b[0;34m\u001b[0m\u001b[0;34m\u001b[0m\u001b[0m\n",
            "\u001b[0;32m/usr/local/lib/python3.6/dist-packages/tensorflow/python/keras/saving/save.py\u001b[0m in \u001b[0;36mload_model\u001b[0;34m(filepath, custom_objects, compile)\u001b[0m\n\u001b[1;32m    187\u001b[0m       \u001b[0mfilepath\u001b[0m \u001b[0;34m=\u001b[0m \u001b[0mstr\u001b[0m\u001b[0;34m(\u001b[0m\u001b[0mfilepath\u001b[0m\u001b[0;34m)\u001b[0m\u001b[0;34m\u001b[0m\u001b[0;34m\u001b[0m\u001b[0m\n\u001b[1;32m    188\u001b[0m     \u001b[0;32mif\u001b[0m \u001b[0misinstance\u001b[0m\u001b[0;34m(\u001b[0m\u001b[0mfilepath\u001b[0m\u001b[0;34m,\u001b[0m \u001b[0msix\u001b[0m\u001b[0;34m.\u001b[0m\u001b[0mstring_types\u001b[0m\u001b[0;34m)\u001b[0m\u001b[0;34m:\u001b[0m\u001b[0;34m\u001b[0m\u001b[0;34m\u001b[0m\u001b[0m\n\u001b[0;32m--> 189\u001b[0;31m       \u001b[0mloader_impl\u001b[0m\u001b[0;34m.\u001b[0m\u001b[0mparse_saved_model\u001b[0m\u001b[0;34m(\u001b[0m\u001b[0mfilepath\u001b[0m\u001b[0;34m)\u001b[0m\u001b[0;34m\u001b[0m\u001b[0;34m\u001b[0m\u001b[0m\n\u001b[0m\u001b[1;32m    190\u001b[0m       \u001b[0;32mreturn\u001b[0m \u001b[0msaved_model_load\u001b[0m\u001b[0;34m.\u001b[0m\u001b[0mload\u001b[0m\u001b[0;34m(\u001b[0m\u001b[0mfilepath\u001b[0m\u001b[0;34m,\u001b[0m \u001b[0mcompile\u001b[0m\u001b[0;34m)\u001b[0m\u001b[0;34m\u001b[0m\u001b[0;34m\u001b[0m\u001b[0m\n\u001b[1;32m    191\u001b[0m \u001b[0;34m\u001b[0m\u001b[0m\n",
            "\u001b[0;32m/usr/local/lib/python3.6/dist-packages/tensorflow/python/saved_model/loader_impl.py\u001b[0m in \u001b[0;36mparse_saved_model\u001b[0;34m(export_dir)\u001b[0m\n\u001b[1;32m    111\u001b[0m                   (export_dir,\n\u001b[1;32m    112\u001b[0m                    \u001b[0mconstants\u001b[0m\u001b[0;34m.\u001b[0m\u001b[0mSAVED_MODEL_FILENAME_PBTXT\u001b[0m\u001b[0;34m,\u001b[0m\u001b[0;34m\u001b[0m\u001b[0;34m\u001b[0m\u001b[0m\n\u001b[0;32m--> 113\u001b[0;31m                    constants.SAVED_MODEL_FILENAME_PB))\n\u001b[0m\u001b[1;32m    114\u001b[0m \u001b[0;34m\u001b[0m\u001b[0m\n\u001b[1;32m    115\u001b[0m \u001b[0;34m\u001b[0m\u001b[0m\n",
            "\u001b[0;31mOSError\u001b[0m: SavedModel file does not exist at: best_model.h5/{saved_model.pbtxt|saved_model.pb}"
          ]
        }
      ]
    },
    {
      "cell_type": "code",
      "metadata": {
        "id": "hsmqXptEvtfX",
        "colab_type": "code",
        "outputId": "f7164ebb-a9cc-4857-cf93-cfe920ad6552",
        "colab": {
          "base_uri": "https://localhost:8080/",
          "height": 53
        }
      },
      "source": [
        "model.evaluate(X_test,y_test)"
      ],
      "execution_count": 0,
      "outputs": [
        {
          "output_type": "stream",
          "text": [
            "1524/1524 [==============================] - 8s 5ms/step - loss: 0.5243 - acc: 0.8357\n"
          ],
          "name": "stdout"
        },
        {
          "output_type": "execute_result",
          "data": {
            "text/plain": [
              "[0.524309515953064, 0.8356617093086243]"
            ]
          },
          "metadata": {
            "tags": []
          },
          "execution_count": 64
        }
      ]
    },
    {
      "cell_type": "code",
      "metadata": {
        "id": "6hpBVIt9F-R2",
        "colab_type": "code",
        "colab": {}
      },
      "source": [
        "#새로운 데이터 입력을 위한 전처리 과정 통합\n",
        "\n",
        "def preprocessing(sentences):\n",
        "  sent_list=[]\n",
        "  for sentence in sentences:\n",
        "    temp=[]\n",
        "    sentence=\" \".join(sentence)\n",
        "    # sentence=sentence.replace(\"[^ㄱ-ㅎㅏ-ㅣ가-힣 ]\",\"\")\n",
        "    temp=okt.morphs(sentence,stem=True)\n",
        "    temp=[word for word in temp if word not in stopwords]\n",
        "    sent_list.append(temp)\n",
        "\n",
        "  tokenizer.fit_on_texts(sent_list)\n",
        "  sent_list=tokenizer.texts_to_sequences(sent_list)\n",
        "  sent_list=pad_sequences(sent_list,maxlen=max_len)\n",
        "\n",
        "  return sent_list"
      ],
      "execution_count": 0,
      "outputs": []
    },
    {
      "cell_type": "code",
      "metadata": {
        "id": "BXMsuSytFJpR",
        "colab_type": "code",
        "colab": {}
      },
      "source": [
        "sentences=[['올해 최고의 영화입니다!'],['재밌어요'],['재미없어요'],['너무 재밌었어요!'],['연기를 너무 못함']]\n",
        "\n"
      ],
      "execution_count": 0,
      "outputs": []
    },
    {
      "cell_type": "code",
      "metadata": {
        "id": "S7kJ-cfcxVue",
        "colab_type": "code",
        "outputId": "00f1f7b0-fe8e-443b-df1a-a63f6918127a",
        "colab": {
          "base_uri": "https://localhost:8080/",
          "height": 197
        }
      },
      "source": [
        "a=preprocessing(sentences)\n",
        "b=model.predict(a)\n",
        "for i in b:\n",
        "  print(i)\n",
        "\n",
        "  if i[0]>=0.5:\n",
        "    print('이 리뷰는 긍정리뷰입니다')\n",
        "\n",
        "  else:\n",
        "    print('이 리뷰는 부정리뷰입니다')"
      ],
      "execution_count": 0,
      "outputs": [
        {
          "output_type": "stream",
          "text": [
            "[0.9987318]\n",
            "이 리뷰는 긍정리뷰입니다\n",
            "[0.9756807]\n",
            "이 리뷰는 긍정리뷰입니다\n",
            "[0.00465481]\n",
            "이 리뷰는 부정리뷰입니다\n",
            "[0.99949634]\n",
            "이 리뷰는 긍정리뷰입니다\n",
            "[0.02519948]\n",
            "이 리뷰는 부정리뷰입니다\n"
          ],
          "name": "stdout"
        }
      ]
    },
    {
      "cell_type": "code",
      "metadata": {
        "id": "rnHodBWjuUBy",
        "colab_type": "code",
        "colab": {}
      },
      "source": [
        "def sentiment(sentences):\n",
        "  a=preprocessing(sentences)\n",
        "  b=model.predict(a)\n",
        "\n",
        "\n",
        "  num_of_posi=0   #긍정 트윗 개수\n",
        "  num_of_nega=0   #부정 트윗 개수\n",
        "  \n",
        "\n",
        "  for sent,pred in zip(sentences,b):\n",
        "    if pred[0]>=0.5:\n",
        "      print(sent[0])\n",
        "      print(\"Positive. \\n\")\n",
        "      num_of_posi +=1\n",
        "    else:\n",
        "      print(sent[0])\n",
        "      print(\"Negative.\\n\")\n",
        "      num_of_nega+=1\n",
        "\n",
        "  print(\"전체 트윗중 부정 트윗의 비율(\\'%\\') : \",num_of_nega/(num_of_posi+num_of_nega)*100)\n",
        "  print(\"전체 트윗중 긍정 트윗의 비율(\\'%\\') : \",num_of_posi/(num_of_posi+num_of_nega)*100)"
      ],
      "execution_count": 0,
      "outputs": []
    },
    {
      "cell_type": "code",
      "metadata": {
        "id": "GeFP_CKLc7o3",
        "colab_type": "code",
        "outputId": "853c2ba4-3696-46db-c3e4-a00e7886fdb6",
        "colab": {
          "base_uri": "https://localhost:8080/",
          "height": 593
        }
      },
      "source": [
        "!pip install twitterscraper\n",
        "!pip install tweepy"
      ],
      "execution_count": 0,
      "outputs": [
        {
          "output_type": "stream",
          "text": [
            "Collecting twitterscraper\n",
            "  Downloading https://files.pythonhosted.org/packages/7f/0f/7cf31233d4f5616c971f6b1ae22dd73fe9a69430877f5c37a0e7b508a311/twitterscraper-1.4.0.tar.gz\n",
            "Collecting coala-utils~=0.5.0\n",
            "  Downloading https://files.pythonhosted.org/packages/54/00/74ec750cfc4e830f9d1cfdd4d559f3d2d4ba1b834b78d5266446db3fd1d6/coala_utils-0.5.1-py3-none-any.whl\n",
            "Requirement already satisfied: bs4 in /usr/local/lib/python3.6/dist-packages (from twitterscraper) (0.0.1)\n",
            "Requirement already satisfied: lxml in /usr/local/lib/python3.6/dist-packages (from twitterscraper) (4.2.6)\n",
            "Requirement already satisfied: requests in /usr/local/lib/python3.6/dist-packages (from twitterscraper) (2.23.0)\n",
            "Collecting billiard\n",
            "\u001b[?25l  Downloading https://files.pythonhosted.org/packages/e8/5e/7591866ff45b370354bd20291cb6f87ddb2eef1f1c88c890a38412037e11/billiard-3.6.3.0-py3-none-any.whl (89kB)\n",
            "\u001b[K     |████████████████████████████████| 92kB 6.4MB/s \n",
            "\u001b[?25hRequirement already satisfied: beautifulsoup4 in /usr/local/lib/python3.6/dist-packages (from bs4->twitterscraper) (4.6.0)\n",
            "Requirement already satisfied: chardet<4,>=3.0.2 in /usr/local/lib/python3.6/dist-packages (from requests->twitterscraper) (3.0.4)\n",
            "Requirement already satisfied: certifi>=2017.4.17 in /usr/local/lib/python3.6/dist-packages (from requests->twitterscraper) (2020.4.5.1)\n",
            "Requirement already satisfied: idna<3,>=2.5 in /usr/local/lib/python3.6/dist-packages (from requests->twitterscraper) (2.9)\n",
            "Requirement already satisfied: urllib3!=1.25.0,!=1.25.1,<1.26,>=1.21.1 in /usr/local/lib/python3.6/dist-packages (from requests->twitterscraper) (1.24.3)\n",
            "Building wheels for collected packages: twitterscraper\n",
            "  Building wheel for twitterscraper (setup.py) ... \u001b[?25l\u001b[?25hdone\n",
            "  Created wheel for twitterscraper: filename=twitterscraper-1.4.0-cp36-none-any.whl size=11347 sha256=8651628704916811cc1cca52288ece99aeb205fb4904c49720fcffafc3aaba4a\n",
            "  Stored in directory: /root/.cache/pip/wheels/c2/9c/8b/7393e7bdc8abe6ce0d46c2ffae2035a1a2080a97ff0ddbdde6\n",
            "Successfully built twitterscraper\n",
            "Installing collected packages: coala-utils, billiard, twitterscraper\n",
            "Successfully installed billiard-3.6.3.0 coala-utils-0.5.1 twitterscraper-1.4.0\n",
            "Requirement already satisfied: tweepy in /usr/local/lib/python3.6/dist-packages (3.8.0)\n",
            "Requirement already satisfied: requests>=2.11.1 in /usr/local/lib/python3.6/dist-packages (from tweepy) (2.23.0)\n",
            "Requirement already satisfied: PySocks>=1.5.7 in /usr/local/lib/python3.6/dist-packages (from tweepy) (1.7.1)\n",
            "Requirement already satisfied: six>=1.10.0 in /usr/local/lib/python3.6/dist-packages (from tweepy) (1.12.0)\n",
            "Requirement already satisfied: requests-oauthlib>=0.7.0 in /usr/local/lib/python3.6/dist-packages (from tweepy) (1.3.0)\n",
            "Requirement already satisfied: certifi>=2017.4.17 in /usr/local/lib/python3.6/dist-packages (from requests>=2.11.1->tweepy) (2020.4.5.1)\n",
            "Requirement already satisfied: urllib3!=1.25.0,!=1.25.1,<1.26,>=1.21.1 in /usr/local/lib/python3.6/dist-packages (from requests>=2.11.1->tweepy) (1.24.3)\n",
            "Requirement already satisfied: idna<3,>=2.5 in /usr/local/lib/python3.6/dist-packages (from requests>=2.11.1->tweepy) (2.9)\n",
            "Requirement already satisfied: chardet<4,>=3.0.2 in /usr/local/lib/python3.6/dist-packages (from requests>=2.11.1->tweepy) (3.0.4)\n",
            "Requirement already satisfied: oauthlib>=3.0.0 in /usr/local/lib/python3.6/dist-packages (from requests-oauthlib>=0.7.0->tweepy) (3.1.0)\n"
          ],
          "name": "stdout"
        }
      ]
    },
    {
      "cell_type": "code",
      "metadata": {
        "id": "KkOn_aovhqsG",
        "colab_type": "code",
        "outputId": "0b4d6515-4570-4edc-f1ea-7538ca4324d8",
        "colab": {
          "base_uri": "https://localhost:8080/",
          "height": 35
        }
      },
      "source": [
        "import twitterscraper\n",
        "from twitterscraper import query_tweets"
      ],
      "execution_count": 0,
      "outputs": [
        {
          "output_type": "stream",
          "text": [
            "INFO: {'User-Agent': 'Mozilla/5.0 (Windows; U; Windows NT 6.1; rv:2.2) Gecko/20110201'}\n"
          ],
          "name": "stderr"
        }
      ]
    },
    {
      "cell_type": "code",
      "metadata": {
        "id": "Nrg1zU4Fis7F",
        "colab_type": "code",
        "colab": {}
      },
      "source": [
        "import tweepy\n",
        "\n",
        "\n",
        "consumer_key = \"PqICmArGSxkIHNtq4wbGykpkv\"\n",
        "\n",
        "consumer_secret = \"ZRp5ilQvwOKj6jExUEIKQC5OoICGSbWUH0pok1xZ7ZvRoAWUyO\"\n",
        "\n",
        "auth = tweepy.OAuthHandler(consumer_key, consumer_secret)\n",
        "\n",
        "\n",
        "\n",
        "# access 토큰 요청\n",
        "\n",
        "access_token = \"1244509487127379970-Oz4UMNX4N0ydH4OtYTqnolaxxgaDhC\"\n",
        "\n",
        "access_token_secret = \"mqNXpnGbnh2CtmRH4j7BSLzssfcIQSahqoKuNNPqIjvAv\"\n",
        "\n",
        "auth.set_access_token(access_token, access_token_secret)\n",
        "\n",
        "\n",
        "\n",
        "# twitter API 생성  \n",
        "\n",
        "api = tweepy.API(auth)"
      ],
      "execution_count": 0,
      "outputs": []
    },
    {
      "cell_type": "code",
      "metadata": {
        "id": "arvcKk1LVmBE",
        "colab_type": "code",
        "colab": {}
      },
      "source": [
        "def get_tweets(query, count = 1000): \n",
        "\n",
        "  \n",
        "    tweets = [] \n",
        "\n",
        "    try: \n",
        "    \n",
        "        fetched_tweets = api.search(q = query, count = count) \n",
        "        \n",
        "        for tweet in fetched_tweets: \n",
        "            \n",
        "            parsed_tweet = []\n",
        "             \n",
        "            parsed_tweet.append(tweet.text)\n",
        "            \n",
        "  \n",
        "\n",
        "            if tweet.retweet_count > 0:   #리트윗은 한번만 기록\n",
        "\n",
        "                if parsed_tweet not in tweets: \n",
        "                    tweets.append(parsed_tweet) \n",
        "            else: \n",
        "                tweets.append(parsed_tweet) \n",
        "\n",
        "\n",
        "        return tweets \n",
        "\n",
        "\n",
        "        print(\"Error : \" + str(e))\n"
      ],
      "execution_count": 0,
      "outputs": []
    },
    {
      "cell_type": "code",
      "metadata": {
        "id": "aTKjCeuWYcNV",
        "colab_type": "code",
        "colab": {}
      },
      "source": [
        "tweets_list=get_tweets(\"영화 침입자\")"
      ],
      "execution_count": 0,
      "outputs": []
    },
    {
      "cell_type": "code",
      "metadata": {
        "id": "WPgZjrMH5a8N",
        "colab_type": "code",
        "colab": {}
      },
      "source": [
        "#크롤링한 트윗 파일로 저장\n",
        "with open('/content/drive/My Drive/tweets_list.txt','wb') as f:\n",
        "  pickle.dump(tweets_list,f)"
      ],
      "execution_count": 0,
      "outputs": []
    },
    {
      "cell_type": "code",
      "metadata": {
        "id": "rMg_q2ql5zuR",
        "colab_type": "code",
        "colab": {}
      },
      "source": [
        "with open('/content/drive/My Drive/tweets_list.txt','rb') as file:\n",
        "  tweets_list=pickle.load(file)"
      ],
      "execution_count": 0,
      "outputs": []
    },
    {
      "cell_type": "code",
      "metadata": {
        "id": "_nh_E_GgYy03",
        "colab_type": "code",
        "outputId": "e66d2fc1-b4c9-4854-fd07-8cfc502aff1d",
        "colab": {
          "base_uri": "https://localhost:8080/",
          "height": 1000
        }
      },
      "source": [
        "sentiment(tweets_list)"
      ],
      "execution_count": 0,
      "outputs": [
        {
          "output_type": "stream",
          "text": [
            "침입자 영화 괜찮은데 보는 내가 너무 괴로워.. 고난과 역경 과다\n",
            "Negative.\n",
            "\n",
            "RT @itayloryou: 겟아웃 + 어스 + 유전을 다 보고 싶은데 \n",
            "시간없는 한국인은 영화 &lt;침입자&gt;를 보세요. https://t.co/g5IjePbKCH\n",
            "Negative.\n",
            "\n",
            "RT @itayloryou: 영화 &lt;침입자&gt; 스릴러보다는 추리소설 느낌인데\n",
            "피곤하고 의욕없는 얼굴을 하고는\n",
            "광기라는걸 뽑아내는 &lt;송지효 배우님&gt;의 연기가 \n",
            "영화 전체의 긴장감을 끌고가면서 \n",
            "묘하고 섬뜩한 호러를 만들어냄 https://t.co/hwP…\n",
            "Negative.\n",
            "\n",
            "영화 침입자보고 누가 유전이랑 미드소마 같다고 했는데 딱이다. 한국형 유전이네. 난 재밌게 봤음. 송지효가 아니면 누가 이거 해.\n",
            "Positive. \n",
            "\n",
            "[침입자]최신영화 다시보기 고화질 다운로드 무료보기\n",
            "https://t.co/77EBUlL5aZ\n",
            "마루TV\n",
            "마루TV주소\n",
            "마루TV접속\n",
            "마루TV같은사이트\n",
            "한고새\n",
            "한곳에\n",
            "외국영화\n",
            "한국영화\n",
            "미드\n",
            "시리즈\n",
            "예능다시보기\n",
            "최… https://t.co/F00QkG1QXL\n",
            "Positive. \n",
            "\n",
            "[침입자]최신영화 다시보기 고화질 다운로드 무료보기\n",
            "https://t.co/HjDHNFnbcb\n",
            "링크모음\n",
            "주소모아\n",
            "다시보기\n",
            "한곳에\n",
            "한고세\n",
            "무료다시보기\n",
            "미드다시보기\n",
            "예능다시보기\n",
            "최신주소\n",
            "무료영화\n",
            "공포영화\n",
            "멜로영… https://t.co/XK8m3rOA16\n",
            "Positive. \n",
            "\n",
            "[무비포커스] ‘침입자’ ‘결백’ 그리고 ‘#살아있다’…한국 영화의 시간은 흐른다 #침입자 #영화침입자 #개봉영화 #영화결백 #결백 #살아있다 #영화살아있다 #영화다만악에서구하소서 #다만악에서구하소서 #반도… https://t.co/nHEI6wGcUD\n",
            "Negative.\n",
            "\n",
            "RT @Ilovedramamovie: 이번 달 영화관 가서 볼 영화\n",
            "\n",
            "침입자- 지효언니 보러 가야함\n",
            "결백- 혜선언니 보러 가야함\n",
            "살아있다- 신혜언니 보러 가야함\n",
            "Positive. \n",
            "\n",
            "침입자 보고왔는데\n",
            "반전이고 반전일것같고 반전이다 반전이 아닌데 반전이었던 영화였음\n",
            "지극히 개인적인 감상평\n",
            "Negative.\n",
            "\n",
            "📊차트로보는 침입자 손익분기점 및 관객수추이\n",
            "\n",
            "🗓●개봉8일차(2020.06.10 목)에는 759개의 스크린에서 16,448명의 관객을 동원했습니다. 누적관객수는 373,903명입니다.\n",
            "\n",
            "#무비아고라… https://t.co/MBpv2kcNLY\n",
            "Positive. \n",
            "\n",
            "오늘 결백 보고 왔는데... 친구한테사회적거리두기안한다고욕먹음\n",
            "톰보이씨피버미스비헤이비어침입자카메론포스트\n",
            "내가기다리다가우리동네상영관내려간영화가몇갠데...\n",
            "Negative.\n",
            "\n",
            "오늘 영화 결백이 너무 재밌었어. 내일은 침입자를 봐야겠다.\n",
            "Positive. \n",
            "\n",
            "40.&lt;침입자&gt;\n",
            "포스터도\n",
            "예고편에서의 송지효 배우도\n",
            "꽤나 파격적인 영화의 설정도\n",
            "좋았지만\n",
            "그 모두를\n",
            "충분히 써먹지 못하는 느낌\n",
            "공들여 지은 집 세트가\n",
            "별다른 역할을 못해 설정 낭비가 되고\n",
            "너무 나간 이야기가… https://t.co/vacWzhQRlR\n",
            "Negative.\n",
            "\n",
            "@zlweidifj 움..네\n",
            "근데글케막잼진않음\n",
            "진짜잼는건결백이라고어이❗\n",
            "침입자는송지효가나온다는이유만으로걍보러가야함니다재미가없어도버티고다봐야하고결백은결말이넘우맘에들었음내가어버어버추리하면서보기너무잼있는영화근데한국말못알아듣겠음\n",
            "Negative.\n",
            "\n",
            "침입자 생각보다 갠춘했다.. 최근의 나는 상업, 장르영화에 관대해지고.. 독립영화에 매정해지고 있는 편..\n",
            "Positive. \n",
            "\n",
            "제형이 이야기, 꿈 해몽, 엠비티아이, 오늘 야식뭐먹지, 이거 썸이야?, 로튜킹 그만봐, 연금복권, 영화 침입자, 홈트, kbo리그, 구운계란 삶은계란 반숙계란, 발사믹소스, 안녕쟈기, 공차메뉴추천 \n",
            "모든… https://t.co/WNKSQUNO4u\n",
            "Positive. \n",
            "\n",
            "침입자 vs 결백 한다면 당연히 결백을 보는 게 낫다고 생각하고.. 나 정말 기대가 없었어서 그런가 보면서 놀랐네 일단 ㅋㅋㅋ 첫씬부터가 침입자랑 너무 다름 ㅋㅋㅋㅋㅋㅋㅋㅋㅋ 최근에 본 한국 영화가 이거라… https://t.co/quDZzjzIY1\n",
            "Positive. \n",
            "\n",
            "여튼 침입자 재미있게 보고 왔음. 어떤사람은 클리셰라고 할 지도 모르겠지만 그만큼 정석대로 따라가는 영화. 쓸데없이 이상한거 해서 망쳐놓은 영화 아닌것 만으로도 개인적으로 선방....했다고 생각함.\n",
            "Negative.\n",
            "\n",
            "&lt;결백&gt;은 배우 배종옥과 허준호의 서브 아래 신혜선이라는 배우가 안정적으로 끌고 가는 영화였다. 볼만하기는 했는데 &lt;침입자&gt;만큼 연속극스런 연출이라 크게 추천은 못하겠고..\n",
            "Positive. \n",
            "\n",
            "토욜날 영화볼까? 침입자 같이 볼 사람\n",
            "Positive. \n",
            "\n",
            "침입자 보고 왔는데... 송지효 하나 보고 갔다가 너무 피폐해졌음 내용이 너무 무겁고 김무열이 정신 잃어가는 과정마다 내 정신도 같이 잃어감 영화 장르랑 뭐 어느 트리거도 눌리는 거 없고 오직 송지효의 쩔어… https://t.co/lmclSI4vYb\n",
            "Negative.\n",
            "\n",
            "RT @cinemaplus39: 송지효 \"올해 마흔, 내 한 몸 건사하기 힘들어..결혼 생각無\"\n",
            "\n",
            "송지효, 김무열, 예수정, 최상훈, 허준석, 서현우 등이 가세한 소설가 손원평 작가의 첫 영화 연출 데뷔작 &lt;침입자&gt;, 2020.06.04 개봉!\n",
            "\n",
            "h…\n",
            "Positive. \n",
            "\n",
            "이번 달 영화관 가서 볼 영화\n",
            "\n",
            "침입자- 지효언니 보러 가야함\n",
            "결백- 혜선언니 보러 가야함\n",
            "살아있다- 신혜언니 보러 가야함\n",
            "Positive. \n",
            "\n",
            "결백\n",
            "침입자\n",
            "카메론 포스트의 잘못된 교육\n",
            "나의 첫번째 슈퍼스타\n",
            "초미의 관심사\n",
            "톰보이\n",
            "미스비헤이비어\n",
            "\n",
            "이렇게 너무 보고 싶었는데 상영관 없고 없고 없고로 하나씩 탈락 중이고 가능한 영화 붙잡고 늘어지는 중...\n",
            "Negative.\n",
            "\n",
            "영화 보고 싶어 영화 보러 갈래 결백 침입자 에어로너츠 너무 보고 싶어\n",
            "Positive. \n",
            "\n",
            "올 여름에 볼 영화 진짜 많네 침입자 결백 반도 살아있다 사라진시간 야구소녀 꼭 봐야지\n",
            "Positive. \n",
            "\n",
            "전체 트윗중 부정 트윗의 비율('%') :  42.30769230769231\n",
            "전체 트윗중 긍정 트윗의 비율('%') :  57.692307692307686\n"
          ],
          "name": "stdout"
        }
      ]
    },
    {
      "cell_type": "code",
      "metadata": {
        "id": "9FOO0slKwvLj",
        "colab_type": "code",
        "colab": {}
      },
      "source": [
        "aaa=api.search(\"영화 침입자\",count=10)"
      ],
      "execution_count": 0,
      "outputs": []
    },
    {
      "cell_type": "code",
      "metadata": {
        "id": "kaJzYk_g9YGU",
        "colab_type": "code",
        "colab": {}
      },
      "source": [
        ""
      ],
      "execution_count": 0,
      "outputs": []
    }
  ]
}